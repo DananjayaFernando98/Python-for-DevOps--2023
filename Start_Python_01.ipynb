{
  "nbformat": 4,
  "nbformat_minor": 0,
  "metadata": {
    "colab": {
      "provenance": [],
      "authorship_tag": "ABX9TyPhYmlj0fBsgCiT9pGYEPyT",
      "include_colab_link": true
    },
    "kernelspec": {
      "name": "python3",
      "display_name": "Python 3"
    },
    "language_info": {
      "name": "python"
    }
  },
  "cells": [
    {
      "cell_type": "markdown",
      "metadata": {
        "id": "view-in-github",
        "colab_type": "text"
      },
      "source": [
        "<a href=\"https://colab.research.google.com/github/DananjayaFernando98/Python-for-DevOps--2023/blob/main/Start_Python_01.ipynb\" target=\"_parent\"><img src=\"https://colab.research.google.com/assets/colab-badge.svg\" alt=\"Open In Colab\"/></a>"
      ]
    },
    {
      "cell_type": "code",
      "execution_count": 41,
      "metadata": {
        "id": "h19x0hw1baLp"
      },
      "outputs": [],
      "source": [
        "meal = {\"breakfast\":\"malu\",\"dawal\":\"biththara\",\"dinner\":\"karawala\"}"
      ]
    },
    {
      "cell_type": "code",
      "source": [
        "  for mealName,mealItem in meal.items():\n",
        "    print(f\"this it meal Name{mealName} this is Item {mealItem}\")\n"
      ],
      "metadata": {
        "id": "6yWVgnyTbynT",
        "outputId": "3fe26d4f-3477-438f-9db0-b2c6ee7017b8",
        "colab": {
          "base_uri": "https://localhost:8080/"
        }
      },
      "execution_count": 42,
      "outputs": [
        {
          "output_type": "stream",
          "name": "stdout",
          "text": [
            "this it meal Namebreakfast this is Item malu\n",
            "this it meal Namedawal this is Item biththara\n",
            "this it meal Namedinner this is Item karawala\n"
          ]
        }
      ]
    }
  ]
}